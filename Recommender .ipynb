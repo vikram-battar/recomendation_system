{
 "cells": [
  {
   "cell_type": "code",
   "execution_count": 1,
   "metadata": {},
   "outputs": [],
   "source": [
    "import pickle\n",
    "import pandas as pd\n",
    "import numpy as np"
   ]
  },
  {
   "cell_type": "code",
   "execution_count": 2,
   "metadata": {},
   "outputs": [],
   "source": [
    "from App import Recommender"
   ]
  },
  {
   "cell_type": "code",
   "execution_count": 3,
   "metadata": {},
   "outputs": [],
   "source": [
    "class RecommenderDS():\n",
    "    \n",
    "    def __init__(self):\n",
    "        pass\n",
    "    \n",
    "    def deserialize(self):\n",
    "        # Deserializing\n",
    "        with open('movie.pkl', 'rb') as handle:\n",
    "            model = pickle.load(handle)\n",
    "        return model\n",
    "    \n",
    "    def recommendation(self, title):\n",
    "        model = self.deserialize()\n",
    "        return model.get_recommendation(title)"
   ]
  },
  {
   "cell_type": "code",
   "execution_count": 9,
   "metadata": {},
   "outputs": [
    {
     "data": {
      "text/plain": [
       "7186                               TRANSCENDENCE\n",
       "44                                      ÆON FLUX\n",
       "1396    CIRQUE DU FREAK: THE VAMPIRE'S ASSISTANT\n",
       "1408                         CLASH OF THE TITANS\n",
       "1849                                 DRAGONHEART\n",
       "3426                                     KNOWING\n",
       "5519                                 SEVENTH SON\n",
       "5790      STAR WARS: EPISODE VIII: THE LAST JEDI\n",
       "6026                        TERMINATOR SALVATION\n",
       "6183                          THE BROTHERS GRIMM\n",
       "Name: title, dtype: object"
      ]
     },
     "execution_count": 9,
     "metadata": {},
     "output_type": "execute_result"
    }
   ],
   "source": [
    "x = RecommenderDS()\n",
    "x.recommendation('Inception')"
   ]
  },
  {
   "cell_type": "code",
   "execution_count": null,
   "metadata": {},
   "outputs": [],
   "source": []
  },
  {
   "cell_type": "code",
   "execution_count": null,
   "metadata": {},
   "outputs": [],
   "source": []
  }
 ],
 "metadata": {
  "kernelspec": {
   "display_name": "Python 3",
   "language": "python",
   "name": "python3"
  },
  "language_info": {
   "codemirror_mode": {
    "name": "ipython",
    "version": 3
   },
   "file_extension": ".py",
   "mimetype": "text/x-python",
   "name": "python",
   "nbconvert_exporter": "python",
   "pygments_lexer": "ipython3",
   "version": "3.8.5"
  }
 },
 "nbformat": 4,
 "nbformat_minor": 4
}
