{
 "cells": [
  {
   "cell_type": "code",
   "execution_count": 1,
   "metadata": {},
   "outputs": [],
   "source": [
    "import json\n",
    "import os\n",
    "from flask import Flask, jsonify, request\n",
    "from flask_cors import CORS\n",
    "# from Recommender import RecommenderDS"
   ]
  },
  {
   "cell_type": "code",
   "execution_count": null,
   "metadata": {},
   "outputs": [],
   "source": [
    "from App import Recommender"
   ]
  },
  {
   "cell_type": "code",
   "execution_count": null,
   "metadata": {},
   "outputs": [],
   "source": [
    "app = Flask(__name__)\n",
    "CORS(app)\n",
    "@app.route(\"/recommend/\", methods=['GET'])\n",
    "def recommend():\n",
    "    print('Inside Recommend')\n",
    "    title = request.args.get('title')\n",
    "    print(title)\n",
    "    result = Recommender().get_recommendation(title)\n",
    "    print(list(result))\n",
    "    result_dict = {'Recommended': list(result)}\n",
    "    return jsonify(result_dict)\n",
    "\n",
    "@app.route(\"/\",methods=['GET'])\n",
    "def default():\n",
    "    print('Entering Default')\n",
    "    return \"<h1> Welcome to Netflix Recommendation Engine <h1>\""
   ]
  },
  {
   "cell_type": "code",
   "execution_count": null,
   "metadata": {},
   "outputs": [],
   "source": [
    "if __name__ == \"__main__\":\n",
    "    app.run() "
   ]
  },
  {
   "cell_type": "code",
   "execution_count": null,
   "metadata": {},
   "outputs": [],
   "source": []
  },
  {
   "cell_type": "code",
   "execution_count": null,
   "metadata": {},
   "outputs": [],
   "source": []
  }
 ],
 "metadata": {
  "kernelspec": {
   "display_name": "Python 3",
   "language": "python",
   "name": "python3"
  },
  "language_info": {
   "codemirror_mode": {
    "name": "ipython",
    "version": 3
   },
   "file_extension": ".py",
   "mimetype": "text/x-python",
   "name": "python",
   "nbconvert_exporter": "python",
   "pygments_lexer": "ipython3",
   "version": "3.8.5"
  }
 },
 "nbformat": 4,
 "nbformat_minor": 4
}
